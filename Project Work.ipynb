{
 "cells": [
  {
   "cell_type": "markdown",
   "metadata": {},
   "source": [
    "# Movie Lens DataSet- Recommendation Engine"
   ]
  },
  {
   "cell_type": "code",
   "execution_count": 1,
   "metadata": {
    "collapsed": true
   },
   "outputs": [],
   "source": [
    "import pandas as pd\n",
    "import numpy as np\n",
    "import matplotlib.pyplot as plt"
   ]
  },
  {
   "cell_type": "code",
   "execution_count": 2,
   "metadata": {
    "collapsed": true
   },
   "outputs": [],
   "source": [
    "data_cols = ['user id','movie id','rating','timestamp']\n",
    "item_cols = ['movie id','movie title','release date','video release date','IMDb URL','unknown','Action','Adventure','Animation','Childrens','Comedy','Crime','Documentary','Drama','Fantasy','Film-Noir','Horror','Musical','Mystery','Romance ','Sci-Fi','Thriller','War' ,'Western']\n",
    "user_cols = ['user id','age','gender','occupation','zip code']"
   ]
  },
  {
   "cell_type": "code",
   "execution_count": 3,
   "metadata": {
    "collapsed": true
   },
   "outputs": [],
   "source": [
    "users = pd.read_csv('u_user.csv', names=user_cols)\n",
    "item = pd.read_csv('u_item.csv', names=item_cols)\n",
    "data = pd.read_csv('u_data.csv', names=data_cols)"
   ]
  },
  {
   "cell_type": "code",
   "execution_count": 4,
   "metadata": {},
   "outputs": [
    {
     "name": "stdout",
     "output_type": "stream",
     "text": [
      "   user id  age gender  occupation zip code\n",
      "0        1   24      M  technician    85711\n",
      "1        2   53      F       other    94043\n",
      "2        3   23      M      writer    32067\n",
      "3        4   24      M  technician    43537\n",
      "4        5   33      F       other    15213\n",
      "   movie id        movie title release date  video release date  \\\n",
      "0         1   Toy Story (1995)   01/01/1995                 NaN   \n",
      "1         2   GoldenEye (1995)   01/01/1995                 NaN   \n",
      "2         3  Four Rooms (1995)   01/01/1995                 NaN   \n",
      "3         4  Get Shorty (1995)   01/01/1995                 NaN   \n",
      "4         5     Copycat (1995)   01/01/1995                 NaN   \n",
      "\n",
      "                                            IMDb URL  unknown  Action  \\\n",
      "0  http://us.imdb.com/M/title-exact?Toy%20Story%2...        0       0   \n",
      "1  http://us.imdb.com/M/title-exact?GoldenEye%20(...        0       1   \n",
      "2  http://us.imdb.com/M/title-exact?Four%20Rooms%...        0       0   \n",
      "3  http://us.imdb.com/M/title-exact?Get%20Shorty%...        0       1   \n",
      "4  http://us.imdb.com/M/title-exact?Copycat%20(1995)        0       0   \n",
      "\n",
      "   Adventure  Animation  Childrens   ...     Fantasy  Film-Noir  Horror  \\\n",
      "0          0          1          1   ...           0          0       0   \n",
      "1          1          0          0   ...           0          0       0   \n",
      "2          0          0          0   ...           0          0       0   \n",
      "3          0          0          0   ...           0          0       0   \n",
      "4          0          0          0   ...           0          0       0   \n",
      "\n",
      "   Musical  Mystery  Romance   Sci-Fi  Thriller  War  Western  \n",
      "0        0        0         0       0         0    0        0  \n",
      "1        0        0         0       0         1    0        0  \n",
      "2        0        0         0       0         1    0        0  \n",
      "3        0        0         0       0         0    0        0  \n",
      "4        0        0         0       0         1    0        0  \n",
      "\n",
      "[5 rows x 24 columns]\n",
      "   user id  movie id  rating  timestamp\n",
      "0      196       242       3  881250949\n",
      "1      186       302       3  891717742\n",
      "2       22       377       1  878887116\n",
      "3      244        51       2  880606923\n",
      "4      166       346       1  886397596\n"
     ]
    }
   ],
   "source": [
    "print users.head()\n",
    "print item.head()\n",
    "print data.head()"
   ]
  },
  {
   "cell_type": "code",
   "execution_count": 5,
   "metadata": {},
   "outputs": [
    {
     "name": "stdout",
     "output_type": "stream",
     "text": [
      "<class 'pandas.core.frame.DataFrame'>\n",
      "RangeIndex: 943 entries, 0 to 942\n",
      "Data columns (total 5 columns):\n",
      "user id       943 non-null int64\n",
      "age           943 non-null int64\n",
      "gender        943 non-null object\n",
      "occupation    943 non-null object\n",
      "zip code      943 non-null object\n",
      "dtypes: int64(2), object(3)\n",
      "memory usage: 36.9+ KB\n",
      "None\n"
     ]
    }
   ],
   "source": [
    "print users.info()"
   ]
  },
  {
   "cell_type": "code",
   "execution_count": 6,
   "metadata": {},
   "outputs": [
    {
     "name": "stdout",
     "output_type": "stream",
     "text": [
      "<class 'pandas.core.frame.DataFrame'>\n",
      "RangeIndex: 100000 entries, 0 to 99999\n",
      "Data columns (total 4 columns):\n",
      "user id      100000 non-null int64\n",
      "movie id     100000 non-null int64\n",
      "rating       100000 non-null int64\n",
      "timestamp    100000 non-null int64\n",
      "dtypes: int64(4)\n",
      "memory usage: 3.1 MB\n",
      "None\n"
     ]
    }
   ],
   "source": [
    "print data.info()"
   ]
  },
  {
   "cell_type": "code",
   "execution_count": 7,
   "metadata": {},
   "outputs": [
    {
     "name": "stdout",
     "output_type": "stream",
     "text": [
      "<class 'pandas.core.frame.DataFrame'>\n",
      "RangeIndex: 1682 entries, 0 to 1681\n",
      "Data columns (total 24 columns):\n",
      "movie id              1682 non-null int64\n",
      "movie title           1682 non-null object\n",
      "release date          1681 non-null object\n",
      "video release date    0 non-null float64\n",
      "IMDb URL              1679 non-null object\n",
      "unknown               1682 non-null int64\n",
      "Action                1682 non-null int64\n",
      "Adventure             1682 non-null int64\n",
      "Animation             1682 non-null int64\n",
      "Childrens             1682 non-null int64\n",
      "Comedy                1682 non-null int64\n",
      "Crime                 1682 non-null int64\n",
      "Documentary           1682 non-null int64\n",
      "Drama                 1682 non-null int64\n",
      "Fantasy               1682 non-null int64\n",
      "Film-Noir             1682 non-null int64\n",
      "Horror                1682 non-null int64\n",
      "Musical               1682 non-null int64\n",
      "Mystery               1682 non-null int64\n",
      "Romance               1682 non-null int64\n",
      "Sci-Fi                1682 non-null int64\n",
      "Thriller              1682 non-null int64\n",
      "War                   1682 non-null int64\n",
      "Western               1682 non-null int64\n",
      "dtypes: float64(1), int64(20), object(3)\n",
      "memory usage: 315.4+ KB\n",
      "None\n"
     ]
    }
   ],
   "source": [
    "print item.info()"
   ]
  },
  {
   "cell_type": "markdown",
   "metadata": {},
   "source": [
    "Creating a merged dataframe"
   ]
  },
  {
   "cell_type": "markdown",
   "metadata": {},
   "source": [
    "### Popularity Based Model"
   ]
  },
  {
   "cell_type": "code",
   "execution_count": 8,
   "metadata": {
    "collapsed": true
   },
   "outputs": [],
   "source": [
    "dataset = pd.merge(pd.merge(item, data),users)"
   ]
  },
  {
   "cell_type": "code",
   "execution_count": 9,
   "metadata": {},
   "outputs": [
    {
     "data": {
      "text/html": [
       "<div>\n",
       "<style>\n",
       "    .dataframe thead tr:only-child th {\n",
       "        text-align: right;\n",
       "    }\n",
       "\n",
       "    .dataframe thead th {\n",
       "        text-align: left;\n",
       "    }\n",
       "\n",
       "    .dataframe tbody tr th {\n",
       "        vertical-align: top;\n",
       "    }\n",
       "</style>\n",
       "<table border=\"1\" class=\"dataframe\">\n",
       "  <thead>\n",
       "    <tr style=\"text-align: right;\">\n",
       "      <th></th>\n",
       "      <th>movie id</th>\n",
       "      <th>movie title</th>\n",
       "      <th>release date</th>\n",
       "      <th>video release date</th>\n",
       "      <th>IMDb URL</th>\n",
       "      <th>unknown</th>\n",
       "      <th>Action</th>\n",
       "      <th>Adventure</th>\n",
       "      <th>Animation</th>\n",
       "      <th>Childrens</th>\n",
       "      <th>...</th>\n",
       "      <th>Thriller</th>\n",
       "      <th>War</th>\n",
       "      <th>Western</th>\n",
       "      <th>user id</th>\n",
       "      <th>rating</th>\n",
       "      <th>timestamp</th>\n",
       "      <th>age</th>\n",
       "      <th>gender</th>\n",
       "      <th>occupation</th>\n",
       "      <th>zip code</th>\n",
       "    </tr>\n",
       "  </thead>\n",
       "  <tbody>\n",
       "    <tr>\n",
       "      <th>0</th>\n",
       "      <td>1</td>\n",
       "      <td>Toy Story (1995)</td>\n",
       "      <td>01/01/1995</td>\n",
       "      <td>NaN</td>\n",
       "      <td>http://us.imdb.com/M/title-exact?Toy%20Story%2...</td>\n",
       "      <td>0</td>\n",
       "      <td>0</td>\n",
       "      <td>0</td>\n",
       "      <td>1</td>\n",
       "      <td>1</td>\n",
       "      <td>...</td>\n",
       "      <td>0</td>\n",
       "      <td>0</td>\n",
       "      <td>0</td>\n",
       "      <td>308</td>\n",
       "      <td>4</td>\n",
       "      <td>887736532</td>\n",
       "      <td>60</td>\n",
       "      <td>M</td>\n",
       "      <td>retired</td>\n",
       "      <td>95076</td>\n",
       "    </tr>\n",
       "    <tr>\n",
       "      <th>1</th>\n",
       "      <td>4</td>\n",
       "      <td>Get Shorty (1995)</td>\n",
       "      <td>01/01/1995</td>\n",
       "      <td>NaN</td>\n",
       "      <td>http://us.imdb.com/M/title-exact?Get%20Shorty%...</td>\n",
       "      <td>0</td>\n",
       "      <td>1</td>\n",
       "      <td>0</td>\n",
       "      <td>0</td>\n",
       "      <td>0</td>\n",
       "      <td>...</td>\n",
       "      <td>0</td>\n",
       "      <td>0</td>\n",
       "      <td>0</td>\n",
       "      <td>308</td>\n",
       "      <td>5</td>\n",
       "      <td>887737890</td>\n",
       "      <td>60</td>\n",
       "      <td>M</td>\n",
       "      <td>retired</td>\n",
       "      <td>95076</td>\n",
       "    </tr>\n",
       "    <tr>\n",
       "      <th>2</th>\n",
       "      <td>5</td>\n",
       "      <td>Copycat (1995)</td>\n",
       "      <td>01/01/1995</td>\n",
       "      <td>NaN</td>\n",
       "      <td>http://us.imdb.com/M/title-exact?Copycat%20(1995)</td>\n",
       "      <td>0</td>\n",
       "      <td>0</td>\n",
       "      <td>0</td>\n",
       "      <td>0</td>\n",
       "      <td>0</td>\n",
       "      <td>...</td>\n",
       "      <td>1</td>\n",
       "      <td>0</td>\n",
       "      <td>0</td>\n",
       "      <td>308</td>\n",
       "      <td>4</td>\n",
       "      <td>887739608</td>\n",
       "      <td>60</td>\n",
       "      <td>M</td>\n",
       "      <td>retired</td>\n",
       "      <td>95076</td>\n",
       "    </tr>\n",
       "    <tr>\n",
       "      <th>3</th>\n",
       "      <td>7</td>\n",
       "      <td>Twelve Monkeys (1995)</td>\n",
       "      <td>01/01/1995</td>\n",
       "      <td>NaN</td>\n",
       "      <td>http://us.imdb.com/M/title-exact?Twelve%20Monk...</td>\n",
       "      <td>0</td>\n",
       "      <td>0</td>\n",
       "      <td>0</td>\n",
       "      <td>0</td>\n",
       "      <td>0</td>\n",
       "      <td>...</td>\n",
       "      <td>0</td>\n",
       "      <td>0</td>\n",
       "      <td>0</td>\n",
       "      <td>308</td>\n",
       "      <td>4</td>\n",
       "      <td>887738847</td>\n",
       "      <td>60</td>\n",
       "      <td>M</td>\n",
       "      <td>retired</td>\n",
       "      <td>95076</td>\n",
       "    </tr>\n",
       "    <tr>\n",
       "      <th>4</th>\n",
       "      <td>8</td>\n",
       "      <td>Babe (1995)</td>\n",
       "      <td>01/01/1995</td>\n",
       "      <td>NaN</td>\n",
       "      <td>http://us.imdb.com/M/title-exact?Babe%20(1995)</td>\n",
       "      <td>0</td>\n",
       "      <td>0</td>\n",
       "      <td>0</td>\n",
       "      <td>0</td>\n",
       "      <td>1</td>\n",
       "      <td>...</td>\n",
       "      <td>0</td>\n",
       "      <td>0</td>\n",
       "      <td>0</td>\n",
       "      <td>308</td>\n",
       "      <td>5</td>\n",
       "      <td>887736696</td>\n",
       "      <td>60</td>\n",
       "      <td>M</td>\n",
       "      <td>retired</td>\n",
       "      <td>95076</td>\n",
       "    </tr>\n",
       "  </tbody>\n",
       "</table>\n",
       "<p>5 rows × 31 columns</p>\n",
       "</div>"
      ],
      "text/plain": [
       "   movie id            movie title release date  video release date  \\\n",
       "0         1       Toy Story (1995)   01/01/1995                 NaN   \n",
       "1         4      Get Shorty (1995)   01/01/1995                 NaN   \n",
       "2         5         Copycat (1995)   01/01/1995                 NaN   \n",
       "3         7  Twelve Monkeys (1995)   01/01/1995                 NaN   \n",
       "4         8            Babe (1995)   01/01/1995                 NaN   \n",
       "\n",
       "                                            IMDb URL  unknown  Action  \\\n",
       "0  http://us.imdb.com/M/title-exact?Toy%20Story%2...        0       0   \n",
       "1  http://us.imdb.com/M/title-exact?Get%20Shorty%...        0       1   \n",
       "2  http://us.imdb.com/M/title-exact?Copycat%20(1995)        0       0   \n",
       "3  http://us.imdb.com/M/title-exact?Twelve%20Monk...        0       0   \n",
       "4     http://us.imdb.com/M/title-exact?Babe%20(1995)        0       0   \n",
       "\n",
       "   Adventure  Animation  Childrens    ...     Thriller  War  Western  user id  \\\n",
       "0          0          1          1    ...            0    0        0      308   \n",
       "1          0          0          0    ...            0    0        0      308   \n",
       "2          0          0          0    ...            1    0        0      308   \n",
       "3          0          0          0    ...            0    0        0      308   \n",
       "4          0          0          1    ...            0    0        0      308   \n",
       "\n",
       "   rating  timestamp  age  gender  occupation  zip code  \n",
       "0       4  887736532   60       M     retired     95076  \n",
       "1       5  887737890   60       M     retired     95076  \n",
       "2       4  887739608   60       M     retired     95076  \n",
       "3       4  887738847   60       M     retired     95076  \n",
       "4       5  887736696   60       M     retired     95076  \n",
       "\n",
       "[5 rows x 31 columns]"
      ]
     },
     "execution_count": 9,
     "metadata": {},
     "output_type": "execute_result"
    }
   ],
   "source": [
    "dataset.head()"
   ]
  },
  {
   "cell_type": "markdown",
   "metadata": {},
   "source": [
    "Dataframe with mean and total number of ratings"
   ]
  },
  {
   "cell_type": "code",
   "execution_count": 10,
   "metadata": {
    "collapsed": true
   },
   "outputs": [],
   "source": [
    "ratings = dataset.groupby('movie title').size()"
   ]
  },
  {
   "cell_type": "code",
   "execution_count": 11,
   "metadata": {
    "collapsed": true
   },
   "outputs": [],
   "source": [
    "rt = (dataset.groupby('movie title'))['movie title','rating']\n",
    "ratings_mean = (rt.mean())\n"
   ]
  },
  {
   "cell_type": "code",
   "execution_count": 12,
   "metadata": {
    "collapsed": true
   },
   "outputs": [],
   "source": [
    "ratings = pd.DataFrame({'movie title':ratings.index, 'total ratings': ratings.values})"
   ]
  },
  {
   "cell_type": "code",
   "execution_count": 13,
   "metadata": {
    "collapsed": true
   },
   "outputs": [],
   "source": [
    "ratings_mean['movie title'] = ratings_mean.index"
   ]
  },
  {
   "cell_type": "code",
   "execution_count": 14,
   "metadata": {},
   "outputs": [
    {
     "name": "stdout",
     "output_type": "stream",
     "text": [
      "        rating              movie title  total ratings\n",
      "1523  3.878319         Toy Story (1995)            452\n",
      "1543  3.798469    Twelve Monkeys (1995)            392\n",
      "712   4.120879         Hugo Pool (1997)            364\n",
      "1341  4.120879     Sliding Doors (1998)            364\n",
      "250   4.120879  Butcher Boy, The (1998)            364\n"
     ]
    }
   ],
   "source": [
    "final = pd.merge(ratings_mean, ratings).sort_values(by = 'total ratings', ascending = False)\n",
    "print final.head()"
   ]
  },
  {
   "cell_type": "code",
   "execution_count": 15,
   "metadata": {},
   "outputs": [
    {
     "name": "stdout",
     "output_type": "stream",
     "text": [
      "            rating  total ratings\n",
      "count  1664.000000    1664.000000\n",
      "mean      4.113799     183.857572\n",
      "std       0.078609      23.325989\n",
      "min       2.761905      10.000000\n",
      "25%       4.120879     182.000000\n",
      "50%       4.120879     182.000000\n",
      "75%       4.120879     182.000000\n",
      "max       4.385768     452.000000\n"
     ]
    }
   ],
   "source": [
    "print final.describe()"
   ]
  },
  {
   "cell_type": "code",
   "execution_count": 16,
   "metadata": {},
   "outputs": [
    {
     "name": "stdout",
     "output_type": "stream",
     "text": [
      "        rating                 movie title  total ratings\n",
      "1572  4.385768  Usual Suspects, The (1995)            267\n",
      "225   4.151515           Braveheart (1995)            297\n",
      "1188  4.120879        Prophecy, The (1995)            182\n",
      "1182  4.120879        Private Parts (1997)            182\n",
      "1183  4.120879    Professional, The (1994)            182\n"
     ]
    }
   ],
   "source": [
    "final = final[:300].sort_values(by = 'rating', ascending = False)\n",
    "print final.head()"
   ]
  },
  {
   "cell_type": "markdown",
   "metadata": {},
   "source": [
    "### Similarity Based models"
   ]
  },
  {
   "cell_type": "code",
   "execution_count": 17,
   "metadata": {},
   "outputs": [
    {
     "name": "stdout",
     "output_type": "stream",
     "text": [
      "(943, 5)\n"
     ]
    }
   ],
   "source": [
    "print users.shape"
   ]
  },
  {
   "cell_type": "code",
   "execution_count": 18,
   "metadata": {
    "collapsed": true
   },
   "outputs": [],
   "source": [
    "r_cols = ['user_id', 'movie_id', 'rating', 'unix_timestamp']"
   ]
  },
  {
   "cell_type": "code",
   "execution_count": 19,
   "metadata": {
    "collapsed": true
   },
   "outputs": [],
   "source": [
    "data = pd.read_csv('u_data.csv', names=r_cols)"
   ]
  },
  {
   "cell_type": "code",
   "execution_count": 20,
   "metadata": {
    "collapsed": true
   },
   "outputs": [],
   "source": [
    "ratings_base = pd.read_csv('ua.base', sep='\\t', names=r_cols, encoding='latin-1')"
   ]
  },
  {
   "cell_type": "code",
   "execution_count": 21,
   "metadata": {},
   "outputs": [
    {
     "data": {
      "text/html": [
       "<div>\n",
       "<style>\n",
       "    .dataframe thead tr:only-child th {\n",
       "        text-align: right;\n",
       "    }\n",
       "\n",
       "    .dataframe thead th {\n",
       "        text-align: left;\n",
       "    }\n",
       "\n",
       "    .dataframe tbody tr th {\n",
       "        vertical-align: top;\n",
       "    }\n",
       "</style>\n",
       "<table border=\"1\" class=\"dataframe\">\n",
       "  <thead>\n",
       "    <tr style=\"text-align: right;\">\n",
       "      <th></th>\n",
       "      <th>user_id</th>\n",
       "      <th>movie_id</th>\n",
       "      <th>rating</th>\n",
       "      <th>unix_timestamp</th>\n",
       "    </tr>\n",
       "  </thead>\n",
       "  <tbody>\n",
       "    <tr>\n",
       "      <th>0</th>\n",
       "      <td>1</td>\n",
       "      <td>1</td>\n",
       "      <td>5</td>\n",
       "      <td>874965758</td>\n",
       "    </tr>\n",
       "    <tr>\n",
       "      <th>1</th>\n",
       "      <td>1</td>\n",
       "      <td>2</td>\n",
       "      <td>3</td>\n",
       "      <td>876893171</td>\n",
       "    </tr>\n",
       "    <tr>\n",
       "      <th>2</th>\n",
       "      <td>1</td>\n",
       "      <td>3</td>\n",
       "      <td>4</td>\n",
       "      <td>878542960</td>\n",
       "    </tr>\n",
       "    <tr>\n",
       "      <th>3</th>\n",
       "      <td>1</td>\n",
       "      <td>4</td>\n",
       "      <td>3</td>\n",
       "      <td>876893119</td>\n",
       "    </tr>\n",
       "    <tr>\n",
       "      <th>4</th>\n",
       "      <td>1</td>\n",
       "      <td>5</td>\n",
       "      <td>3</td>\n",
       "      <td>889751712</td>\n",
       "    </tr>\n",
       "  </tbody>\n",
       "</table>\n",
       "</div>"
      ],
      "text/plain": [
       "   user_id  movie_id  rating  unix_timestamp\n",
       "0        1         1       5       874965758\n",
       "1        1         2       3       876893171\n",
       "2        1         3       4       878542960\n",
       "3        1         4       3       876893119\n",
       "4        1         5       3       889751712"
      ]
     },
     "execution_count": 21,
     "metadata": {},
     "output_type": "execute_result"
    }
   ],
   "source": [
    "ratings_base.head()"
   ]
  },
  {
   "cell_type": "code",
   "execution_count": 22,
   "metadata": {
    "collapsed": true
   },
   "outputs": [],
   "source": [
    "ratings_test = pd.read_csv('ua.test', sep='\\t', names=r_cols, encoding='latin-1')"
   ]
  },
  {
   "cell_type": "code",
   "execution_count": 23,
   "metadata": {},
   "outputs": [
    {
     "data": {
      "text/html": [
       "<div>\n",
       "<style>\n",
       "    .dataframe thead tr:only-child th {\n",
       "        text-align: right;\n",
       "    }\n",
       "\n",
       "    .dataframe thead th {\n",
       "        text-align: left;\n",
       "    }\n",
       "\n",
       "    .dataframe tbody tr th {\n",
       "        vertical-align: top;\n",
       "    }\n",
       "</style>\n",
       "<table border=\"1\" class=\"dataframe\">\n",
       "  <thead>\n",
       "    <tr style=\"text-align: right;\">\n",
       "      <th></th>\n",
       "      <th>user_id</th>\n",
       "      <th>movie_id</th>\n",
       "      <th>rating</th>\n",
       "      <th>unix_timestamp</th>\n",
       "    </tr>\n",
       "  </thead>\n",
       "  <tbody>\n",
       "    <tr>\n",
       "      <th>0</th>\n",
       "      <td>1</td>\n",
       "      <td>20</td>\n",
       "      <td>4</td>\n",
       "      <td>887431883</td>\n",
       "    </tr>\n",
       "    <tr>\n",
       "      <th>1</th>\n",
       "      <td>1</td>\n",
       "      <td>33</td>\n",
       "      <td>4</td>\n",
       "      <td>878542699</td>\n",
       "    </tr>\n",
       "    <tr>\n",
       "      <th>2</th>\n",
       "      <td>1</td>\n",
       "      <td>61</td>\n",
       "      <td>4</td>\n",
       "      <td>878542420</td>\n",
       "    </tr>\n",
       "    <tr>\n",
       "      <th>3</th>\n",
       "      <td>1</td>\n",
       "      <td>117</td>\n",
       "      <td>3</td>\n",
       "      <td>874965739</td>\n",
       "    </tr>\n",
       "    <tr>\n",
       "      <th>4</th>\n",
       "      <td>1</td>\n",
       "      <td>155</td>\n",
       "      <td>2</td>\n",
       "      <td>878542201</td>\n",
       "    </tr>\n",
       "  </tbody>\n",
       "</table>\n",
       "</div>"
      ],
      "text/plain": [
       "   user_id  movie_id  rating  unix_timestamp\n",
       "0        1        20       4       887431883\n",
       "1        1        33       4       878542699\n",
       "2        1        61       4       878542420\n",
       "3        1       117       3       874965739\n",
       "4        1       155       2       878542201"
      ]
     },
     "execution_count": 23,
     "metadata": {},
     "output_type": "execute_result"
    }
   ],
   "source": [
    "ratings_test.head()"
   ]
  },
  {
   "cell_type": "code",
   "execution_count": 24,
   "metadata": {},
   "outputs": [
    {
     "data": {
      "text/plain": [
       "((90570, 4), (9430, 4))"
      ]
     },
     "execution_count": 24,
     "metadata": {},
     "output_type": "execute_result"
    }
   ],
   "source": [
    "ratings_base.shape, ratings_test.shape"
   ]
  },
  {
   "cell_type": "code",
   "execution_count": 25,
   "metadata": {},
   "outputs": [
    {
     "name": "stdout",
     "output_type": "stream",
     "text": [
      "\n",
      "Number of Users = 943 | Number of movies = 1682\n"
     ]
    }
   ],
   "source": [
    "n_users = data.user_id.unique().shape[0]\n",
    "n_items = data.movie_id.unique().shape[0]\n",
    "print '\\nNumber of Users = ' + str(n_users) + ' | Number of movies = ' + str(n_items)"
   ]
  },
  {
   "cell_type": "code",
   "execution_count": 26,
   "metadata": {
    "collapsed": true
   },
   "outputs": [],
   "source": [
    "df_matrix = np.zeros((n_users, n_items))\n",
    "for line in data.itertuples():\n",
    "    df_matrix[line[1]-1,line[2]-1] = line[3]\n",
    "\n",
    "from sklearn.metrics.pairwise import pairwise_distances\n",
    "\n",
    "user_similarity = pairwise_distances(df_matrix, metric = 'euclidean')\n",
    "item_similarity = pairwise_distances(df_matrix.T, metric = 'euclidean')"
   ]
  },
  {
   "cell_type": "markdown",
   "metadata": {},
   "source": [
    "#### Check 5 similar users for a particular user id and similar items for a particular item"
   ]
  },
  {
   "cell_type": "code",
   "execution_count": 28,
   "metadata": {
    "collapsed": true
   },
   "outputs": [],
   "source": [
    "sim_user = pd.DataFrame(user_similarity).loc[195,pd.DataFrame(user_similarity).loc[195,:]> 0].sort_values(ascending=True)[0:5]\n",
    "\n",
    "sim_item = pd.DataFrame(item_similarity).loc[241,pd.DataFrame(item_similarity).loc[241,:]> 0].sort_values(ascending=True)[0:5]"
   ]
  },
  {
   "cell_type": "code",
   "execution_count": 29,
   "metadata": {},
   "outputs": [
    {
     "name": "stdout",
     "output_type": "stream",
     "text": [
      "Similar users for user id 196: \n",
      "684    24.576411\n",
      "18     24.819347\n",
      "650    24.939928\n",
      "865    25.199206\n",
      "154    25.238859\n",
      "Name: 195, dtype: float64\n"
     ]
    }
   ],
   "source": [
    "print \"Similar users for user id 196: \\n\", sim_user"
   ]
  },
  {
   "cell_type": "code",
   "execution_count": 30,
   "metadata": {},
   "outputs": [
    {
     "name": "stdout",
     "output_type": "stream",
     "text": [
      "Similar items for item id 242: \n",
      "888     43.208795\n",
      "1250    43.382024\n",
      "145     43.543082\n",
      "713     43.554563\n",
      "532     43.794977\n",
      "Name: 241, dtype: float64\n"
     ]
    }
   ],
   "source": [
    "print \"Similar items for item id 242: \\n\", sim_item"
   ]
  },
  {
   "cell_type": "markdown",
   "metadata": {},
   "source": [
    "### Collaborative Filtering - Item based & User based"
   ]
  },
  {
   "cell_type": "code",
   "execution_count": 31,
   "metadata": {
    "collapsed": true
   },
   "outputs": [],
   "source": [
    "def item_cf(rating_matrix,similarity_matrix):\n",
    "    return rating_matrix.dot(similarity_matrix)/ np.array([np.abs(similarity_matrix).sum(axis=1)])\n",
    "\n",
    "item_pred = item_cf(df_matrix, item_similarity)"
   ]
  },
  {
   "cell_type": "code",
   "execution_count": 32,
   "metadata": {
    "collapsed": true
   },
   "outputs": [],
   "source": [
    "def user_cf(rating_matrix, similarity_matrix):\n",
    "    mean_user_rating = rating_matrix.mean(axis=1)\n",
    "    ratings_diff = (rating_matrix - mean_user_rating[:,np.newaxis])\n",
    "    return mean_user_rating[:, np.newaxis] + similarity_matrix.dot(ratings_diff) / np.array([np.abs(similarity_matrix).sum(axis=1)]).T\n",
    "\n",
    "user_pred = user_cf(df_matrix, user_similarity)"
   ]
  },
  {
   "cell_type": "code",
   "execution_count": 33,
   "metadata": {
    "collapsed": true
   },
   "outputs": [],
   "source": [
    "from sklearn.metrics import mean_squared_error\n",
    "from math import sqrt"
   ]
  },
  {
   "cell_type": "markdown",
   "metadata": {},
   "source": [
    "### RMSE Calculation"
   ]
  },
  {
   "cell_type": "code",
   "execution_count": 34,
   "metadata": {},
   "outputs": [
    {
     "name": "stdout",
     "output_type": "stream",
     "text": [
      "User-based CF RMSE: 2.89323947274\n",
      "Item-based CF RMSE: 3.26238705776\n"
     ]
    }
   ],
   "source": [
    "def rmse(prediction, actual):\n",
    "    prediction = prediction[actual.nonzero()].flatten()\n",
    "    actual = actual[actual.nonzero()].flatten()\n",
    "    return sqrt(mean_squared_error(prediction, actual))\n",
    "\n",
    "print 'User-based CF RMSE: ' + str(rmse(user_pred, df_matrix))\n",
    "print 'Item-based CF RMSE: ' + str(rmse(item_pred, df_matrix))"
   ]
  },
  {
   "cell_type": "code",
   "execution_count": 39,
   "metadata": {
    "scrolled": true
   },
   "outputs": [
    {
     "name": "stdout",
     "output_type": "stream",
     "text": [
      "     Predicted rating\n",
      "99           2.335339\n",
      "180          2.277304\n",
      "173          2.170532\n",
      "97           2.008041\n",
      "126          1.957705\n"
     ]
    }
   ],
   "source": [
    "new_user_based = pd.DataFrame(user_pred)\n",
    "\n",
    "#Predictions for movies that user 196 hasn't rated yet\n",
    "\n",
    "predictions = new_user_based.loc[3, pd.DataFrame(df_matrix).loc[3,:]== 0]\n",
    "top = predictions.sort_values(ascending=False).head()\n",
    "recommendations = pd.DataFrame(data=top)\n",
    "recommendations.columns = ['Predicted rating']\n",
    "print recommendations"
   ]
  },
  {
   "cell_type": "code",
   "execution_count": 45,
   "metadata": {},
   "outputs": [
    {
     "name": "stdout",
     "output_type": "stream",
     "text": [
      "      Predicted rating\n",
      "1547          0.178476\n",
      "1560          0.178476\n",
      "1562          0.178476\n",
      "1563          0.178476\n",
      "1564          0.178476\n"
     ]
    }
   ],
   "source": [
    "new_item_based = pd.DataFrame(item_pred)\n",
    "\n",
    "#Predictions for movies that user 196 hasn't rated yet\n",
    "\n",
    "predictions = new_item_based.loc[195, pd.DataFrame(df_matrix).loc[195,:]== 0]\n",
    "top = predictions.sort_values(ascending=False).head()\n",
    "recommendations = pd.DataFrame(data=top)\n",
    "recommendations.columns = ['Predicted rating']\n",
    "print recommendations"
   ]
  },
  {
   "cell_type": "markdown",
   "metadata": {},
   "source": [
    "### Model Based Collaborative Filtering"
   ]
  },
  {
   "cell_type": "code",
   "execution_count": 49,
   "metadata": {},
   "outputs": [
    {
     "name": "stdout",
     "output_type": "stream",
     "text": [
      "The sparsity level of the matrix is 93.7%\n",
      "User-based CF MSE: 2.13180211304\n"
     ]
    }
   ],
   "source": [
    "#calculate sparsity level\n",
    "\n",
    "sparsity = round(1.0 - len(data)/float(n_users*n_items),3)\n",
    "print 'The sparsity level of the matrix is ' + str(sparsity*100) + '%'\n",
    "\n",
    "import scipy.sparse as sp\n",
    "from scipy.sparse.linalg import svds\n",
    "\n",
    "#Get SVD components from train matrix. Choose k\n",
    "\n",
    "u,s, vt = svds(df_matrix, k=20)\n",
    "s_diag_matrix = np.diag(s)\n",
    "X_pred = np.dot(np.dot(u,s_diag_matrix), vt)\n",
    "\n",
    "\n",
    "print 'User-based CF RMSE: ' + str(rmse(X_pred,df_matrix))"
   ]
  },
  {
   "cell_type": "code",
   "execution_count": 51,
   "metadata": {},
   "outputs": [
    {
     "name": "stdout",
     "output_type": "stream",
     "text": [
      "     Predicted rating\n",
      "215          1.604623\n",
      "99           1.480465\n",
      "207          1.454494\n",
      "87           1.431871\n",
      "731          1.325431\n"
     ]
    }
   ],
   "source": [
    "new_user_based = pd.DataFrame(X_pred)\n",
    "\n",
    "predictions = new_user_based.loc[195, pd.DataFrame(df_matrix).loc[195,:]== 0]\n",
    "top = predictions.sort_values(ascending=False).head()\n",
    "recommendations = pd.DataFrame(data=top)\n",
    "recommendations.columns = ['Predicted rating']\n",
    "print recommendations"
   ]
  },
  {
   "cell_type": "code",
   "execution_count": null,
   "metadata": {
    "collapsed": true
   },
   "outputs": [],
   "source": []
  }
 ],
 "metadata": {
  "kernelspec": {
   "display_name": "Python 2",
   "language": "python",
   "name": "python2"
  },
  "language_info": {
   "codemirror_mode": {
    "name": "ipython",
    "version": 2
   },
   "file_extension": ".py",
   "mimetype": "text/x-python",
   "name": "python",
   "nbconvert_exporter": "python",
   "pygments_lexer": "ipython2",
   "version": "2.7.13"
  }
 },
 "nbformat": 4,
 "nbformat_minor": 2
}
